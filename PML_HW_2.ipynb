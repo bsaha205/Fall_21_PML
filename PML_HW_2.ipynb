{
  "nbformat": 4,
  "nbformat_minor": 0,
  "metadata": {
    "colab": {
      "provenance": [],
      "collapsed_sections": [],
      "toc_visible": true,
      "include_colab_link": true
    },
    "kernelspec": {
      "name": "python3",
      "display_name": "Python 3"
    },
    "language_info": {
      "name": "python"
    }
  },
  "cells": [
    {
      "cell_type": "markdown",
      "metadata": {
        "id": "view-in-github",
        "colab_type": "text"
      },
      "source": [
        "<a href=\"https://colab.research.google.com/github/bsaha205/Fall_22_PML/blob/main/PML_HW_2.ipynb\" target=\"_parent\"><img src=\"https://colab.research.google.com/assets/colab-badge.svg\" alt=\"Open In Colab\"/></a>"
      ]
    },
    {
      "cell_type": "markdown",
      "source": [
        "# Exploring data"
      ],
      "metadata": {
        "id": "nMGT3_tN0gge"
      }
    },
    {
      "cell_type": "code",
      "source": [
        "# import required libraries\n",
        "import pandas as pd\n",
        "import matplotlib.pyplot as plt\n",
        "import seaborn as sns\n",
        "import numpy as np\n",
        "from sklearn.model_selection import train_test_split\n",
        "from sklearn.linear_model import LogisticRegression\n",
        "from sklearn.svm import SVC\n",
        "from sklearn.ensemble import RandomForestClassifier\n",
        "from sklearn.ensemble import GradientBoostingClassifier\n",
        "from sklearn.metrics import accuracy_score\n",
        "from sklearn.metrics import f1_score\n",
        "from sklearn.preprocessing import Normalizer\n",
        "import warnings\n",
        "warnings.filterwarnings(\"ignore\")"
      ],
      "metadata": {
        "id": "hueqaq_JN2hy"
      },
      "execution_count": null,
      "outputs": []
    },
    {
      "cell_type": "code",
      "source": [
        "# data source: https://www.kaggle.com/datasets/vikasukani/loan-eligible-dataset\n",
        "# note: I have run only Training data\n",
        "df = pd.read_csv('loan.csv')"
      ],
      "metadata": {
        "id": "g3wzIkpTN6Pm"
      },
      "execution_count": null,
      "outputs": []
    },
    {
      "cell_type": "code",
      "source": [
        "# viewing the first few rows of the data\n",
        "df.head()"
      ],
      "metadata": {
        "colab": {
          "base_uri": "https://localhost:8080/",
          "height": 248
        },
        "id": "SZ_DIfcpPfk2",
        "outputId": "8bd115e5-cbde-4e5c-9461-2375cccbbe19"
      },
      "execution_count": null,
      "outputs": [
        {
          "output_type": "execute_result",
          "data": {
            "text/plain": [
              "    Loan_ID Gender Married Dependents     Education Self_Employed  \\\n",
              "0  LP001002   Male      No          0      Graduate            No   \n",
              "1  LP001003   Male     Yes          1      Graduate            No   \n",
              "2  LP001005   Male     Yes          0      Graduate           Yes   \n",
              "3  LP001006   Male     Yes          0  Not Graduate            No   \n",
              "4  LP001008   Male      No          0      Graduate            No   \n",
              "\n",
              "   ApplicantIncome  CoapplicantIncome  LoanAmount  Loan_Amount_Term  \\\n",
              "0             5849                0.0         NaN             360.0   \n",
              "1             4583             1508.0       128.0             360.0   \n",
              "2             3000                0.0        66.0             360.0   \n",
              "3             2583             2358.0       120.0             360.0   \n",
              "4             6000                0.0       141.0             360.0   \n",
              "\n",
              "   Credit_History Property_Area Loan_Status  \n",
              "0             1.0         Urban           Y  \n",
              "1             1.0         Rural           N  \n",
              "2             1.0         Urban           Y  \n",
              "3             1.0         Urban           Y  \n",
              "4             1.0         Urban           Y  "
            ],
            "text/html": [
              "\n",
              "  <div id=\"df-ad0d530f-2cc2-4555-8dcf-f6151ea87925\">\n",
              "    <div class=\"colab-df-container\">\n",
              "      <div>\n",
              "<style scoped>\n",
              "    .dataframe tbody tr th:only-of-type {\n",
              "        vertical-align: middle;\n",
              "    }\n",
              "\n",
              "    .dataframe tbody tr th {\n",
              "        vertical-align: top;\n",
              "    }\n",
              "\n",
              "    .dataframe thead th {\n",
              "        text-align: right;\n",
              "    }\n",
              "</style>\n",
              "<table border=\"1\" class=\"dataframe\">\n",
              "  <thead>\n",
              "    <tr style=\"text-align: right;\">\n",
              "      <th></th>\n",
              "      <th>Loan_ID</th>\n",
              "      <th>Gender</th>\n",
              "      <th>Married</th>\n",
              "      <th>Dependents</th>\n",
              "      <th>Education</th>\n",
              "      <th>Self_Employed</th>\n",
              "      <th>ApplicantIncome</th>\n",
              "      <th>CoapplicantIncome</th>\n",
              "      <th>LoanAmount</th>\n",
              "      <th>Loan_Amount_Term</th>\n",
              "      <th>Credit_History</th>\n",
              "      <th>Property_Area</th>\n",
              "      <th>Loan_Status</th>\n",
              "    </tr>\n",
              "  </thead>\n",
              "  <tbody>\n",
              "    <tr>\n",
              "      <th>0</th>\n",
              "      <td>LP001002</td>\n",
              "      <td>Male</td>\n",
              "      <td>No</td>\n",
              "      <td>0</td>\n",
              "      <td>Graduate</td>\n",
              "      <td>No</td>\n",
              "      <td>5849</td>\n",
              "      <td>0.0</td>\n",
              "      <td>NaN</td>\n",
              "      <td>360.0</td>\n",
              "      <td>1.0</td>\n",
              "      <td>Urban</td>\n",
              "      <td>Y</td>\n",
              "    </tr>\n",
              "    <tr>\n",
              "      <th>1</th>\n",
              "      <td>LP001003</td>\n",
              "      <td>Male</td>\n",
              "      <td>Yes</td>\n",
              "      <td>1</td>\n",
              "      <td>Graduate</td>\n",
              "      <td>No</td>\n",
              "      <td>4583</td>\n",
              "      <td>1508.0</td>\n",
              "      <td>128.0</td>\n",
              "      <td>360.0</td>\n",
              "      <td>1.0</td>\n",
              "      <td>Rural</td>\n",
              "      <td>N</td>\n",
              "    </tr>\n",
              "    <tr>\n",
              "      <th>2</th>\n",
              "      <td>LP001005</td>\n",
              "      <td>Male</td>\n",
              "      <td>Yes</td>\n",
              "      <td>0</td>\n",
              "      <td>Graduate</td>\n",
              "      <td>Yes</td>\n",
              "      <td>3000</td>\n",
              "      <td>0.0</td>\n",
              "      <td>66.0</td>\n",
              "      <td>360.0</td>\n",
              "      <td>1.0</td>\n",
              "      <td>Urban</td>\n",
              "      <td>Y</td>\n",
              "    </tr>\n",
              "    <tr>\n",
              "      <th>3</th>\n",
              "      <td>LP001006</td>\n",
              "      <td>Male</td>\n",
              "      <td>Yes</td>\n",
              "      <td>0</td>\n",
              "      <td>Not Graduate</td>\n",
              "      <td>No</td>\n",
              "      <td>2583</td>\n",
              "      <td>2358.0</td>\n",
              "      <td>120.0</td>\n",
              "      <td>360.0</td>\n",
              "      <td>1.0</td>\n",
              "      <td>Urban</td>\n",
              "      <td>Y</td>\n",
              "    </tr>\n",
              "    <tr>\n",
              "      <th>4</th>\n",
              "      <td>LP001008</td>\n",
              "      <td>Male</td>\n",
              "      <td>No</td>\n",
              "      <td>0</td>\n",
              "      <td>Graduate</td>\n",
              "      <td>No</td>\n",
              "      <td>6000</td>\n",
              "      <td>0.0</td>\n",
              "      <td>141.0</td>\n",
              "      <td>360.0</td>\n",
              "      <td>1.0</td>\n",
              "      <td>Urban</td>\n",
              "      <td>Y</td>\n",
              "    </tr>\n",
              "  </tbody>\n",
              "</table>\n",
              "</div>\n",
              "      <button class=\"colab-df-convert\" onclick=\"convertToInteractive('df-ad0d530f-2cc2-4555-8dcf-f6151ea87925')\"\n",
              "              title=\"Convert this dataframe to an interactive table.\"\n",
              "              style=\"display:none;\">\n",
              "        \n",
              "  <svg xmlns=\"http://www.w3.org/2000/svg\" height=\"24px\"viewBox=\"0 0 24 24\"\n",
              "       width=\"24px\">\n",
              "    <path d=\"M0 0h24v24H0V0z\" fill=\"none\"/>\n",
              "    <path d=\"M18.56 5.44l.94 2.06.94-2.06 2.06-.94-2.06-.94-.94-2.06-.94 2.06-2.06.94zm-11 1L8.5 8.5l.94-2.06 2.06-.94-2.06-.94L8.5 2.5l-.94 2.06-2.06.94zm10 10l.94 2.06.94-2.06 2.06-.94-2.06-.94-.94-2.06-.94 2.06-2.06.94z\"/><path d=\"M17.41 7.96l-1.37-1.37c-.4-.4-.92-.59-1.43-.59-.52 0-1.04.2-1.43.59L10.3 9.45l-7.72 7.72c-.78.78-.78 2.05 0 2.83L4 21.41c.39.39.9.59 1.41.59.51 0 1.02-.2 1.41-.59l7.78-7.78 2.81-2.81c.8-.78.8-2.07 0-2.86zM5.41 20L4 18.59l7.72-7.72 1.47 1.35L5.41 20z\"/>\n",
              "  </svg>\n",
              "      </button>\n",
              "      \n",
              "  <style>\n",
              "    .colab-df-container {\n",
              "      display:flex;\n",
              "      flex-wrap:wrap;\n",
              "      gap: 12px;\n",
              "    }\n",
              "\n",
              "    .colab-df-convert {\n",
              "      background-color: #E8F0FE;\n",
              "      border: none;\n",
              "      border-radius: 50%;\n",
              "      cursor: pointer;\n",
              "      display: none;\n",
              "      fill: #1967D2;\n",
              "      height: 32px;\n",
              "      padding: 0 0 0 0;\n",
              "      width: 32px;\n",
              "    }\n",
              "\n",
              "    .colab-df-convert:hover {\n",
              "      background-color: #E2EBFA;\n",
              "      box-shadow: 0px 1px 2px rgba(60, 64, 67, 0.3), 0px 1px 3px 1px rgba(60, 64, 67, 0.15);\n",
              "      fill: #174EA6;\n",
              "    }\n",
              "\n",
              "    [theme=dark] .colab-df-convert {\n",
              "      background-color: #3B4455;\n",
              "      fill: #D2E3FC;\n",
              "    }\n",
              "\n",
              "    [theme=dark] .colab-df-convert:hover {\n",
              "      background-color: #434B5C;\n",
              "      box-shadow: 0px 1px 3px 1px rgba(0, 0, 0, 0.15);\n",
              "      filter: drop-shadow(0px 1px 2px rgba(0, 0, 0, 0.3));\n",
              "      fill: #FFFFFF;\n",
              "    }\n",
              "  </style>\n",
              "\n",
              "      <script>\n",
              "        const buttonEl =\n",
              "          document.querySelector('#df-ad0d530f-2cc2-4555-8dcf-f6151ea87925 button.colab-df-convert');\n",
              "        buttonEl.style.display =\n",
              "          google.colab.kernel.accessAllowed ? 'block' : 'none';\n",
              "\n",
              "        async function convertToInteractive(key) {\n",
              "          const element = document.querySelector('#df-ad0d530f-2cc2-4555-8dcf-f6151ea87925');\n",
              "          const dataTable =\n",
              "            await google.colab.kernel.invokeFunction('convertToInteractive',\n",
              "                                                     [key], {});\n",
              "          if (!dataTable) return;\n",
              "\n",
              "          const docLinkHtml = 'Like what you see? Visit the ' +\n",
              "            '<a target=\"_blank\" href=https://colab.research.google.com/notebooks/data_table.ipynb>data table notebook</a>'\n",
              "            + ' to learn more about interactive tables.';\n",
              "          element.innerHTML = '';\n",
              "          dataTable['output_type'] = 'display_data';\n",
              "          await google.colab.output.renderOutput(dataTable, element);\n",
              "          const docLink = document.createElement('div');\n",
              "          docLink.innerHTML = docLinkHtml;\n",
              "          element.appendChild(docLink);\n",
              "        }\n",
              "      </script>\n",
              "    </div>\n",
              "  </div>\n",
              "  "
            ]
          },
          "metadata": {},
          "execution_count": 267
        }
      ]
    },
    {
      "cell_type": "code",
      "source": [
        "# what's the data size?\n",
        "df.shape"
      ],
      "metadata": {
        "colab": {
          "base_uri": "https://localhost:8080/"
        },
        "id": "mmr4TV2mPr1J",
        "outputId": "aee62f31-b637-4215-bce1-8f902b502267"
      },
      "execution_count": null,
      "outputs": [
        {
          "output_type": "execute_result",
          "data": {
            "text/plain": [
              "(614, 13)"
            ]
          },
          "metadata": {},
          "execution_count": 268
        }
      ]
    },
    {
      "cell_type": "code",
      "source": [
        "# general information about the dataset\n",
        "df.info()"
      ],
      "metadata": {
        "colab": {
          "base_uri": "https://localhost:8080/"
        },
        "id": "AbLxIfW8QFPo",
        "outputId": "6ecb9fd8-884e-4a94-913b-b50155861161"
      },
      "execution_count": null,
      "outputs": [
        {
          "output_type": "stream",
          "name": "stdout",
          "text": [
            "<class 'pandas.core.frame.DataFrame'>\n",
            "RangeIndex: 614 entries, 0 to 613\n",
            "Data columns (total 13 columns):\n",
            " #   Column             Non-Null Count  Dtype  \n",
            "---  ------             --------------  -----  \n",
            " 0   Loan_ID            614 non-null    object \n",
            " 1   Gender             601 non-null    object \n",
            " 2   Married            611 non-null    object \n",
            " 3   Dependents         599 non-null    object \n",
            " 4   Education          614 non-null    object \n",
            " 5   Self_Employed      582 non-null    object \n",
            " 6   ApplicantIncome    614 non-null    int64  \n",
            " 7   CoapplicantIncome  614 non-null    float64\n",
            " 8   LoanAmount         592 non-null    float64\n",
            " 9   Loan_Amount_Term   600 non-null    float64\n",
            " 10  Credit_History     564 non-null    float64\n",
            " 11  Property_Area      614 non-null    object \n",
            " 12  Loan_Status        614 non-null    object \n",
            "dtypes: float64(4), int64(1), object(8)\n",
            "memory usage: 62.5+ KB\n"
          ]
        }
      ]
    },
    {
      "cell_type": "markdown",
      "source": [
        "# Missing Value Computation"
      ],
      "metadata": {
        "id": "vwqTxMvHY5-T"
      }
    },
    {
      "cell_type": "code",
      "source": [
        "# which columns have a missing value?\n",
        "df.isnull().any(axis=0) #axis 0 is rows so those are compressed"
      ],
      "metadata": {
        "colab": {
          "base_uri": "https://localhost:8080/"
        },
        "id": "X_ELw38ZY_6f",
        "outputId": "e0cc2f94-f2cc-40e5-a697-fc80df84b3fc"
      },
      "execution_count": null,
      "outputs": [
        {
          "output_type": "execute_result",
          "data": {
            "text/plain": [
              "Loan_ID              False\n",
              "Gender                True\n",
              "Married               True\n",
              "Dependents            True\n",
              "Education            False\n",
              "Self_Employed         True\n",
              "ApplicantIncome      False\n",
              "CoapplicantIncome    False\n",
              "LoanAmount            True\n",
              "Loan_Amount_Term      True\n",
              "Credit_History        True\n",
              "Property_Area        False\n",
              "Loan_Status          False\n",
              "dtype: bool"
            ]
          },
          "metadata": {},
          "execution_count": 270
        }
      ]
    },
    {
      "cell_type": "code",
      "source": [
        "# how many rows have a missing value?\n",
        "df.isnull().any(axis=1).sum()"
      ],
      "metadata": {
        "colab": {
          "base_uri": "https://localhost:8080/"
        },
        "id": "eYeYugjpZIgx",
        "outputId": "f83d5599-2c7f-4b1b-a294-ac20e3112dfc"
      },
      "execution_count": null,
      "outputs": [
        {
          "output_type": "execute_result",
          "data": {
            "text/plain": [
              "134"
            ]
          },
          "metadata": {},
          "execution_count": 271
        }
      ]
    },
    {
      "cell_type": "code",
      "source": [
        "# what percent of each column is missing?\n",
        "df_nan = round(100*df.isna().sum()/df.shape[0],2)\n",
        "index = df_nan.index\n",
        "\n",
        "pd.DataFrame({ '% NaN': df_nan}, index=index).T"
      ],
      "metadata": {
        "colab": {
          "base_uri": "https://localhost:8080/",
          "height": 124
        },
        "id": "b54RWuKdZS58",
        "outputId": "cd358367-f2c3-4557-f83d-23c7ad931139"
      },
      "execution_count": null,
      "outputs": [
        {
          "output_type": "execute_result",
          "data": {
            "text/plain": [
              "       Loan_ID  Gender  Married  Dependents  Education  Self_Employed  \\\n",
              "% NaN      0.0    2.12     0.49        2.44        0.0           5.21   \n",
              "\n",
              "       ApplicantIncome  CoapplicantIncome  LoanAmount  Loan_Amount_Term  \\\n",
              "% NaN              0.0                0.0        3.58              2.28   \n",
              "\n",
              "       Credit_History  Property_Area  Loan_Status  \n",
              "% NaN            8.14            0.0          0.0  "
            ],
            "text/html": [
              "\n",
              "  <div id=\"df-10e847d9-4537-4f99-a156-d3d9739f02be\">\n",
              "    <div class=\"colab-df-container\">\n",
              "      <div>\n",
              "<style scoped>\n",
              "    .dataframe tbody tr th:only-of-type {\n",
              "        vertical-align: middle;\n",
              "    }\n",
              "\n",
              "    .dataframe tbody tr th {\n",
              "        vertical-align: top;\n",
              "    }\n",
              "\n",
              "    .dataframe thead th {\n",
              "        text-align: right;\n",
              "    }\n",
              "</style>\n",
              "<table border=\"1\" class=\"dataframe\">\n",
              "  <thead>\n",
              "    <tr style=\"text-align: right;\">\n",
              "      <th></th>\n",
              "      <th>Loan_ID</th>\n",
              "      <th>Gender</th>\n",
              "      <th>Married</th>\n",
              "      <th>Dependents</th>\n",
              "      <th>Education</th>\n",
              "      <th>Self_Employed</th>\n",
              "      <th>ApplicantIncome</th>\n",
              "      <th>CoapplicantIncome</th>\n",
              "      <th>LoanAmount</th>\n",
              "      <th>Loan_Amount_Term</th>\n",
              "      <th>Credit_History</th>\n",
              "      <th>Property_Area</th>\n",
              "      <th>Loan_Status</th>\n",
              "    </tr>\n",
              "  </thead>\n",
              "  <tbody>\n",
              "    <tr>\n",
              "      <th>% NaN</th>\n",
              "      <td>0.0</td>\n",
              "      <td>2.12</td>\n",
              "      <td>0.49</td>\n",
              "      <td>2.44</td>\n",
              "      <td>0.0</td>\n",
              "      <td>5.21</td>\n",
              "      <td>0.0</td>\n",
              "      <td>0.0</td>\n",
              "      <td>3.58</td>\n",
              "      <td>2.28</td>\n",
              "      <td>8.14</td>\n",
              "      <td>0.0</td>\n",
              "      <td>0.0</td>\n",
              "    </tr>\n",
              "  </tbody>\n",
              "</table>\n",
              "</div>\n",
              "      <button class=\"colab-df-convert\" onclick=\"convertToInteractive('df-10e847d9-4537-4f99-a156-d3d9739f02be')\"\n",
              "              title=\"Convert this dataframe to an interactive table.\"\n",
              "              style=\"display:none;\">\n",
              "        \n",
              "  <svg xmlns=\"http://www.w3.org/2000/svg\" height=\"24px\"viewBox=\"0 0 24 24\"\n",
              "       width=\"24px\">\n",
              "    <path d=\"M0 0h24v24H0V0z\" fill=\"none\"/>\n",
              "    <path d=\"M18.56 5.44l.94 2.06.94-2.06 2.06-.94-2.06-.94-.94-2.06-.94 2.06-2.06.94zm-11 1L8.5 8.5l.94-2.06 2.06-.94-2.06-.94L8.5 2.5l-.94 2.06-2.06.94zm10 10l.94 2.06.94-2.06 2.06-.94-2.06-.94-.94-2.06-.94 2.06-2.06.94z\"/><path d=\"M17.41 7.96l-1.37-1.37c-.4-.4-.92-.59-1.43-.59-.52 0-1.04.2-1.43.59L10.3 9.45l-7.72 7.72c-.78.78-.78 2.05 0 2.83L4 21.41c.39.39.9.59 1.41.59.51 0 1.02-.2 1.41-.59l7.78-7.78 2.81-2.81c.8-.78.8-2.07 0-2.86zM5.41 20L4 18.59l7.72-7.72 1.47 1.35L5.41 20z\"/>\n",
              "  </svg>\n",
              "      </button>\n",
              "      \n",
              "  <style>\n",
              "    .colab-df-container {\n",
              "      display:flex;\n",
              "      flex-wrap:wrap;\n",
              "      gap: 12px;\n",
              "    }\n",
              "\n",
              "    .colab-df-convert {\n",
              "      background-color: #E8F0FE;\n",
              "      border: none;\n",
              "      border-radius: 50%;\n",
              "      cursor: pointer;\n",
              "      display: none;\n",
              "      fill: #1967D2;\n",
              "      height: 32px;\n",
              "      padding: 0 0 0 0;\n",
              "      width: 32px;\n",
              "    }\n",
              "\n",
              "    .colab-df-convert:hover {\n",
              "      background-color: #E2EBFA;\n",
              "      box-shadow: 0px 1px 2px rgba(60, 64, 67, 0.3), 0px 1px 3px 1px rgba(60, 64, 67, 0.15);\n",
              "      fill: #174EA6;\n",
              "    }\n",
              "\n",
              "    [theme=dark] .colab-df-convert {\n",
              "      background-color: #3B4455;\n",
              "      fill: #D2E3FC;\n",
              "    }\n",
              "\n",
              "    [theme=dark] .colab-df-convert:hover {\n",
              "      background-color: #434B5C;\n",
              "      box-shadow: 0px 1px 3px 1px rgba(0, 0, 0, 0.15);\n",
              "      filter: drop-shadow(0px 1px 2px rgba(0, 0, 0, 0.3));\n",
              "      fill: #FFFFFF;\n",
              "    }\n",
              "  </style>\n",
              "\n",
              "      <script>\n",
              "        const buttonEl =\n",
              "          document.querySelector('#df-10e847d9-4537-4f99-a156-d3d9739f02be button.colab-df-convert');\n",
              "        buttonEl.style.display =\n",
              "          google.colab.kernel.accessAllowed ? 'block' : 'none';\n",
              "\n",
              "        async function convertToInteractive(key) {\n",
              "          const element = document.querySelector('#df-10e847d9-4537-4f99-a156-d3d9739f02be');\n",
              "          const dataTable =\n",
              "            await google.colab.kernel.invokeFunction('convertToInteractive',\n",
              "                                                     [key], {});\n",
              "          if (!dataTable) return;\n",
              "\n",
              "          const docLinkHtml = 'Like what you see? Visit the ' +\n",
              "            '<a target=\"_blank\" href=https://colab.research.google.com/notebooks/data_table.ipynb>data table notebook</a>'\n",
              "            + ' to learn more about interactive tables.';\n",
              "          element.innerHTML = '';\n",
              "          dataTable['output_type'] = 'display_data';\n",
              "          await google.colab.output.renderOutput(dataTable, element);\n",
              "          const docLink = document.createElement('div');\n",
              "          docLink.innerHTML = docLinkHtml;\n",
              "          element.appendChild(docLink);\n",
              "        }\n",
              "      </script>\n",
              "    </div>\n",
              "  </div>\n",
              "  "
            ]
          },
          "metadata": {},
          "execution_count": 272
        }
      ]
    },
    {
      "cell_type": "code",
      "source": [
        "# how many rows of each column is missing?\n",
        "df.isna().sum()"
      ],
      "metadata": {
        "colab": {
          "base_uri": "https://localhost:8080/"
        },
        "id": "Z0edhjOwbpTu",
        "outputId": "2cc81cc2-955b-4c5e-e76a-f4045fb55e42"
      },
      "execution_count": null,
      "outputs": [
        {
          "output_type": "execute_result",
          "data": {
            "text/plain": [
              "Loan_ID               0\n",
              "Gender               13\n",
              "Married               3\n",
              "Dependents           15\n",
              "Education             0\n",
              "Self_Employed        32\n",
              "ApplicantIncome       0\n",
              "CoapplicantIncome     0\n",
              "LoanAmount           22\n",
              "Loan_Amount_Term     14\n",
              "Credit_History       50\n",
              "Property_Area         0\n",
              "Loan_Status           0\n",
              "dtype: int64"
            ]
          },
          "metadata": {},
          "execution_count": 273
        }
      ]
    },
    {
      "cell_type": "markdown",
      "source": [
        "#### Gender"
      ],
      "metadata": {
        "id": "_WsuFvt420dt"
      }
    },
    {
      "cell_type": "markdown",
      "source": [
        "We see there are 13 missing values in gender column. We can replace them with the value based on mean ApplicantIncome for each gender like below."
      ],
      "metadata": {
        "id": "vUkrd7Vv2920"
      }
    },
    {
      "cell_type": "code",
      "source": [
        "female_mean_income = df.groupby('Gender').mean()['ApplicantIncome']['Female']\n",
        "male_mean_income = df.groupby('Gender').mean()['ApplicantIncome']['Male']\n",
        "\n",
        "for i in range(df.shape[0]):\n",
        "  if pd.isnull(df.at[i,'Gender']):\n",
        "    replaced_value = 'Male'\n",
        "    income_diff_with_male = abs(male_mean_income - df.at[i,'ApplicantIncome'])\n",
        "    income_diff_with_female = abs(female_mean_income - df.at[i,'ApplicantIncome'])\n",
        "    if(income_diff_with_female < income_diff_with_male):\n",
        "      replaced_value = 'Female'\n",
        "    # print(\"Replacing with\", replaced_value)\n",
        "    df.at[i,'Gender'] = replaced_value\n",
        "    # df.at(i, 'Gender', replaced_value)\n",
        "\n",
        "# df.isna().sum()\n",
        "# df"
      ],
      "metadata": {
        "id": "oNK6Ch1I3YiM"
      },
      "execution_count": null,
      "outputs": []
    },
    {
      "cell_type": "markdown",
      "source": [
        "### Married"
      ],
      "metadata": {
        "id": "Kk4CcqhZBYpt"
      }
    },
    {
      "cell_type": "markdown",
      "source": [
        "We see there are only 3 missing values in Married column. We can replace them with the mode value."
      ],
      "metadata": {
        "id": "XpKsKI3gBluA"
      }
    },
    {
      "cell_type": "code",
      "source": [
        "# replace missing Married values with the mode\n",
        "df.Married.fillna(df.Married.mode()[0], inplace=True)"
      ],
      "metadata": {
        "id": "-zNHaZXtB1dV"
      },
      "execution_count": null,
      "outputs": []
    },
    {
      "cell_type": "markdown",
      "source": [
        "## Dependents"
      ],
      "metadata": {
        "id": "GCfo-ze8EGob"
      }
    },
    {
      "cell_type": "code",
      "source": [
        "# replace missing Dependents values with 0\n",
        "df.Dependents.fillna(0, inplace=True)\n"
      ],
      "metadata": {
        "id": "7yj2HN5YAGxL"
      },
      "execution_count": null,
      "outputs": []
    },
    {
      "cell_type": "markdown",
      "source": [
        "## Self_Employed, Credit_History"
      ],
      "metadata": {
        "id": "EzNTEUCnE83M"
      }
    },
    {
      "cell_type": "markdown",
      "source": [
        "We can replace these missing values with the value based on mean ApplicantIncome like what we did for gender."
      ],
      "metadata": {
        "id": "PaZSpKDVFQf-"
      }
    },
    {
      "cell_type": "code",
      "source": [
        "# Self_Employed\n",
        "no_mean_income = df.groupby('Self_Employed').mean()['ApplicantIncome']['No']\n",
        "yes_mean_income = df.groupby('Self_Employed').mean()['ApplicantIncome']['Yes']\n",
        "\n",
        "for i in range(df.shape[0]):\n",
        "  if pd.isnull(df.at[i,'Self_Employed']):\n",
        "    replaced_value = 'No'\n",
        "    income_diff_with_no = abs(no_mean_income - df.at[i,'ApplicantIncome'])\n",
        "    income_diff_with_yes = abs(yes_mean_income - df.at[i,'ApplicantIncome'])\n",
        "    if(income_diff_with_yes < income_diff_with_no):\n",
        "      replaced_value = 'Yes'\n",
        "    df.at[i,'Self_Employed'] = replaced_value"
      ],
      "metadata": {
        "id": "uhEEE32tFKx2"
      },
      "execution_count": null,
      "outputs": []
    },
    {
      "cell_type": "code",
      "source": [
        "# Credit_History\n",
        "zero_mean_income = df.groupby('Credit_History').mean()['ApplicantIncome'][0]\n",
        "one_mean_income = df.groupby('Credit_History').mean()['ApplicantIncome'][1]\n",
        "\n",
        "for i in range(df.shape[0]):\n",
        "  if pd.isnull(df.at[i,'Credit_History']):\n",
        "    replaced_value = 0\n",
        "    income_diff_with_zero = abs(zero_mean_income - df.at[i,'ApplicantIncome'])\n",
        "    income_diff_with_one = abs(one_mean_income - df.at[i,'ApplicantIncome'])\n",
        "    if(income_diff_with_one < income_diff_with_zero):\n",
        "      replaced_value = 1\n",
        "    df.at[i,'Credit_History'] = replaced_value"
      ],
      "metadata": {
        "id": "21ubFIraGMA9"
      },
      "execution_count": null,
      "outputs": []
    },
    {
      "cell_type": "markdown",
      "source": [
        "## LoanAmount, Loan_Amount_Term"
      ],
      "metadata": {
        "id": "prPQRFLYHKG3"
      }
    },
    {
      "cell_type": "markdown",
      "source": [
        "We can replace these missing values simply with the mode value."
      ],
      "metadata": {
        "id": "VvDMAtB1HQY8"
      }
    },
    {
      "cell_type": "code",
      "source": [
        "# replace missing LoanAmount values with the mode\n",
        "df.LoanAmount.fillna(df.LoanAmount.mode()[0], inplace=True)"
      ],
      "metadata": {
        "id": "VpQ8WPocHVyg"
      },
      "execution_count": null,
      "outputs": []
    },
    {
      "cell_type": "code",
      "source": [
        "# replace missing Loan_Amount_Term values with the mode\n",
        "df.Loan_Amount_Term.fillna(df.Loan_Amount_Term.mode()[0], inplace=True)"
      ],
      "metadata": {
        "id": "vLHhw4wmHcAt"
      },
      "execution_count": null,
      "outputs": []
    },
    {
      "cell_type": "code",
      "source": [
        "df_nan = round(100*df.isna().sum()/df.shape[0],2)\n",
        "index = df_nan.index\n",
        "\n",
        "pd.DataFrame({ '% NaN': df_nan}, index=index).T"
      ],
      "metadata": {
        "colab": {
          "base_uri": "https://localhost:8080/",
          "height": 124
        },
        "id": "behZAlUoE0vo",
        "outputId": "99ed39bd-b2f0-4355-ae0a-ed90cd887a2a"
      },
      "execution_count": null,
      "outputs": [
        {
          "output_type": "execute_result",
          "data": {
            "text/plain": [
              "       Loan_ID  Gender  Married  Dependents  Education  Self_Employed  \\\n",
              "% NaN      0.0     0.0      0.0         0.0        0.0            0.0   \n",
              "\n",
              "       ApplicantIncome  CoapplicantIncome  LoanAmount  Loan_Amount_Term  \\\n",
              "% NaN              0.0                0.0         0.0               0.0   \n",
              "\n",
              "       Credit_History  Property_Area  Loan_Status  \n",
              "% NaN             0.0            0.0          0.0  "
            ],
            "text/html": [
              "\n",
              "  <div id=\"df-bad131b1-968c-4ca9-8a42-91cd0daf94a6\">\n",
              "    <div class=\"colab-df-container\">\n",
              "      <div>\n",
              "<style scoped>\n",
              "    .dataframe tbody tr th:only-of-type {\n",
              "        vertical-align: middle;\n",
              "    }\n",
              "\n",
              "    .dataframe tbody tr th {\n",
              "        vertical-align: top;\n",
              "    }\n",
              "\n",
              "    .dataframe thead th {\n",
              "        text-align: right;\n",
              "    }\n",
              "</style>\n",
              "<table border=\"1\" class=\"dataframe\">\n",
              "  <thead>\n",
              "    <tr style=\"text-align: right;\">\n",
              "      <th></th>\n",
              "      <th>Loan_ID</th>\n",
              "      <th>Gender</th>\n",
              "      <th>Married</th>\n",
              "      <th>Dependents</th>\n",
              "      <th>Education</th>\n",
              "      <th>Self_Employed</th>\n",
              "      <th>ApplicantIncome</th>\n",
              "      <th>CoapplicantIncome</th>\n",
              "      <th>LoanAmount</th>\n",
              "      <th>Loan_Amount_Term</th>\n",
              "      <th>Credit_History</th>\n",
              "      <th>Property_Area</th>\n",
              "      <th>Loan_Status</th>\n",
              "    </tr>\n",
              "  </thead>\n",
              "  <tbody>\n",
              "    <tr>\n",
              "      <th>% NaN</th>\n",
              "      <td>0.0</td>\n",
              "      <td>0.0</td>\n",
              "      <td>0.0</td>\n",
              "      <td>0.0</td>\n",
              "      <td>0.0</td>\n",
              "      <td>0.0</td>\n",
              "      <td>0.0</td>\n",
              "      <td>0.0</td>\n",
              "      <td>0.0</td>\n",
              "      <td>0.0</td>\n",
              "      <td>0.0</td>\n",
              "      <td>0.0</td>\n",
              "      <td>0.0</td>\n",
              "    </tr>\n",
              "  </tbody>\n",
              "</table>\n",
              "</div>\n",
              "      <button class=\"colab-df-convert\" onclick=\"convertToInteractive('df-bad131b1-968c-4ca9-8a42-91cd0daf94a6')\"\n",
              "              title=\"Convert this dataframe to an interactive table.\"\n",
              "              style=\"display:none;\">\n",
              "        \n",
              "  <svg xmlns=\"http://www.w3.org/2000/svg\" height=\"24px\"viewBox=\"0 0 24 24\"\n",
              "       width=\"24px\">\n",
              "    <path d=\"M0 0h24v24H0V0z\" fill=\"none\"/>\n",
              "    <path d=\"M18.56 5.44l.94 2.06.94-2.06 2.06-.94-2.06-.94-.94-2.06-.94 2.06-2.06.94zm-11 1L8.5 8.5l.94-2.06 2.06-.94-2.06-.94L8.5 2.5l-.94 2.06-2.06.94zm10 10l.94 2.06.94-2.06 2.06-.94-2.06-.94-.94-2.06-.94 2.06-2.06.94z\"/><path d=\"M17.41 7.96l-1.37-1.37c-.4-.4-.92-.59-1.43-.59-.52 0-1.04.2-1.43.59L10.3 9.45l-7.72 7.72c-.78.78-.78 2.05 0 2.83L4 21.41c.39.39.9.59 1.41.59.51 0 1.02-.2 1.41-.59l7.78-7.78 2.81-2.81c.8-.78.8-2.07 0-2.86zM5.41 20L4 18.59l7.72-7.72 1.47 1.35L5.41 20z\"/>\n",
              "  </svg>\n",
              "      </button>\n",
              "      \n",
              "  <style>\n",
              "    .colab-df-container {\n",
              "      display:flex;\n",
              "      flex-wrap:wrap;\n",
              "      gap: 12px;\n",
              "    }\n",
              "\n",
              "    .colab-df-convert {\n",
              "      background-color: #E8F0FE;\n",
              "      border: none;\n",
              "      border-radius: 50%;\n",
              "      cursor: pointer;\n",
              "      display: none;\n",
              "      fill: #1967D2;\n",
              "      height: 32px;\n",
              "      padding: 0 0 0 0;\n",
              "      width: 32px;\n",
              "    }\n",
              "\n",
              "    .colab-df-convert:hover {\n",
              "      background-color: #E2EBFA;\n",
              "      box-shadow: 0px 1px 2px rgba(60, 64, 67, 0.3), 0px 1px 3px 1px rgba(60, 64, 67, 0.15);\n",
              "      fill: #174EA6;\n",
              "    }\n",
              "\n",
              "    [theme=dark] .colab-df-convert {\n",
              "      background-color: #3B4455;\n",
              "      fill: #D2E3FC;\n",
              "    }\n",
              "\n",
              "    [theme=dark] .colab-df-convert:hover {\n",
              "      background-color: #434B5C;\n",
              "      box-shadow: 0px 1px 3px 1px rgba(0, 0, 0, 0.15);\n",
              "      filter: drop-shadow(0px 1px 2px rgba(0, 0, 0, 0.3));\n",
              "      fill: #FFFFFF;\n",
              "    }\n",
              "  </style>\n",
              "\n",
              "      <script>\n",
              "        const buttonEl =\n",
              "          document.querySelector('#df-bad131b1-968c-4ca9-8a42-91cd0daf94a6 button.colab-df-convert');\n",
              "        buttonEl.style.display =\n",
              "          google.colab.kernel.accessAllowed ? 'block' : 'none';\n",
              "\n",
              "        async function convertToInteractive(key) {\n",
              "          const element = document.querySelector('#df-bad131b1-968c-4ca9-8a42-91cd0daf94a6');\n",
              "          const dataTable =\n",
              "            await google.colab.kernel.invokeFunction('convertToInteractive',\n",
              "                                                     [key], {});\n",
              "          if (!dataTable) return;\n",
              "\n",
              "          const docLinkHtml = 'Like what you see? Visit the ' +\n",
              "            '<a target=\"_blank\" href=https://colab.research.google.com/notebooks/data_table.ipynb>data table notebook</a>'\n",
              "            + ' to learn more about interactive tables.';\n",
              "          element.innerHTML = '';\n",
              "          dataTable['output_type'] = 'display_data';\n",
              "          await google.colab.output.renderOutput(dataTable, element);\n",
              "          const docLink = document.createElement('div');\n",
              "          docLink.innerHTML = docLinkHtml;\n",
              "          element.appendChild(docLink);\n",
              "        }\n",
              "      </script>\n",
              "    </div>\n",
              "  </div>\n",
              "  "
            ]
          },
          "metadata": {},
          "execution_count": 281
        }
      ]
    },
    {
      "cell_type": "markdown",
      "source": [
        "Wow! There is no missing value anymore!"
      ],
      "metadata": {
        "id": "vaEm0g8WHjrN"
      }
    },
    {
      "cell_type": "markdown",
      "source": [
        "# Make Dataset Ready"
      ],
      "metadata": {
        "id": "TDNuoVxgHoxc"
      }
    },
    {
      "cell_type": "markdown",
      "source": [
        "Now it is time to make the dataset ready for the model, for example replace all the categorized values with numerical values."
      ],
      "metadata": {
        "id": "vMjDRG6rIBvr"
      }
    },
    {
      "cell_type": "markdown",
      "source": [
        "As we don't need Loan_ID for the logistic regression model, we can delete this entire column."
      ],
      "metadata": {
        "id": "KSanvMQ9cWCR"
      }
    },
    {
      "cell_type": "code",
      "source": [
        "# deleting Loan_ID \n",
        "df = df.drop('Loan_ID', axis=1)"
      ],
      "metadata": {
        "id": "gTNroS58cfVb"
      },
      "execution_count": null,
      "outputs": []
    },
    {
      "cell_type": "code",
      "source": [
        "# replace male with 0 and female with 1\n",
        "df['Gender'] = df['Gender'].replace(['Male'], 0)\n",
        "df['Gender'] = df['Gender'].replace(['Female'], 1)"
      ],
      "metadata": {
        "id": "FHlhZYMYJY8O"
      },
      "execution_count": null,
      "outputs": []
    },
    {
      "cell_type": "code",
      "source": [
        "# replace married with 0 and un-married with 1\n",
        "df['Married'] = df['Married'].replace(['Yes'], 0)\n",
        "df['Married'] = df['Married'].replace(['No'], 1)"
      ],
      "metadata": {
        "id": "PKZ_4DluKt97"
      },
      "execution_count": null,
      "outputs": []
    },
    {
      "cell_type": "code",
      "source": [
        "# replace Dependents of 3+ with 3\n",
        "df['Dependents'] = df['Dependents'].replace(['3+'], 3)\n",
        "df['Dependents'] = df['Dependents'].replace(['0'], 0)\n",
        "df['Dependents'] = df['Dependents'].replace(['1'], 1)\n",
        "df['Dependents'] = df['Dependents'].replace(['2'], 2)"
      ],
      "metadata": {
        "id": "VNsEeUVdLHKL"
      },
      "execution_count": null,
      "outputs": []
    },
    {
      "cell_type": "code",
      "source": [
        "# replace Education Graduate with 0 and Not Graduate with 1\n",
        "df['Education'] = df['Education'].replace(['Graduate'], 0)\n",
        "df['Education'] = df['Education'].replace(['Not Graduate'], 1)"
      ],
      "metadata": {
        "id": "8G9s_J4tMEYM"
      },
      "execution_count": null,
      "outputs": []
    },
    {
      "cell_type": "code",
      "source": [
        "# replace Self_Employed Yes with 0 and No with 1\n",
        "df['Self_Employed'] = df['Self_Employed'].replace(['Yes'], 0)\n",
        "df['Self_Employed'] = df['Self_Employed'].replace(['No'], 1)"
      ],
      "metadata": {
        "id": "gL1bAdRqMZzn"
      },
      "execution_count": null,
      "outputs": []
    },
    {
      "cell_type": "code",
      "source": [
        "# replace Property_Area Rural with 0, Semiurban with 1 and Urban with 2\n",
        "df['Property_Area'] = df['Property_Area'].replace(['Rural'], 0)\n",
        "df['Property_Area'] = df['Property_Area'].replace(['Semiurban'], 1)\n",
        "df['Property_Area'] = df['Property_Area'].replace(['Urban'], 2)"
      ],
      "metadata": {
        "id": "LUU2PdKTMrPQ"
      },
      "execution_count": null,
      "outputs": []
    },
    {
      "cell_type": "code",
      "source": [
        "# replace Loan_Status N with 0 and Y with 1\n",
        "df['Loan_Status'] = df['Loan_Status'].replace(['N'], 0)\n",
        "df['Loan_Status'] = df['Loan_Status'].replace(['Y'], 1)"
      ],
      "metadata": {
        "id": "_ZOXiz5zNBlm"
      },
      "execution_count": null,
      "outputs": []
    },
    {
      "cell_type": "markdown",
      "source": [
        "# Task 1"
      ],
      "metadata": {
        "id": "flAAgLc8NawF"
      }
    },
    {
      "cell_type": "markdown",
      "source": [
        "Decision Tree Classifier Implementation"
      ],
      "metadata": {
        "id": "pWeUJx7vNfgx"
      }
    },
    {
      "cell_type": "code",
      "source": [
        "# independent variables\n",
        "X = df.drop(['Loan_Status'], axis=1)\n",
        "# dependent/target variable\n",
        "y = df.Loan_Status\n",
        "\n",
        "# divide data into train and test sets\n",
        "X_train, X_test, y_train, y_test = train_test_split(X, y, test_size=0.2, random_state=42)\n",
        "\n",
        "# scale the data between 0 and 1\n",
        "transformer = Normalizer(norm='max').fit(X_train)\n",
        "X_train = transformer.transform(X_train)\n",
        "X_test = transformer.transform(X_test)\n",
        "\n",
        "# get the train data shape\n",
        "n = X_train.shape[0]\n",
        "d = X_train.shape[1]\n",
        "print('n:', n, ' d:', d)"
      ],
      "metadata": {
        "id": "tQQqA-uHIVaI",
        "colab": {
          "base_uri": "https://localhost:8080/"
        },
        "outputId": "29c8a7f4-16f7-4e60-a595-9e07ed212b56"
      },
      "execution_count": null,
      "outputs": [
        {
          "output_type": "stream",
          "name": "stdout",
          "text": [
            "n: 491  d: 11\n"
          ]
        }
      ]
    },
    {
      "cell_type": "code",
      "source": [
        "def get_scores(y_pred, y_test):\n",
        "    # overall acuracy of the model\n",
        "    accu_score = accuracy_score(y_pred, y_test)\n",
        "    # f1 score of the model\n",
        "    f1_scor = f1_score(y_pred, y_test)\n",
        "    \n",
        "    print(\"accuracy_score: %.4f, f1_score: %.4f\" % (accu_score, f1_scor))\n",
        "    return accu_score, f1_scor"
      ],
      "metadata": {
        "id": "HhhOb8ZXFqkY"
      },
      "execution_count": null,
      "outputs": []
    },
    {
      "cell_type": "code",
      "source": [
        "from sklearn import tree\n",
        "\n",
        "criterion_list = ['gini', 'entropy']\n",
        "max_depth_list = [2, 4, 8]\n",
        "min_samples_split_list = [2, 4, 8]\n",
        "max_features_list = [4, 6, 8, 10]\n",
        "\n",
        "iter = 1\n",
        "optimum_criterion = None\n",
        "optimum_max_depth = None\n",
        "optimum_min_samples_split = None\n",
        "optimum_max_features = None\n",
        "max_accuracy_score = 0\n",
        "max_f1_score = 0\n",
        "for criterion in criterion_list:\n",
        "  for max_depth in max_depth_list:\n",
        "    for min_samples_split in min_samples_split_list:\n",
        "      for max_features in max_features_list:\n",
        "        print('iter:', iter, ', criterion:', criterion, ', max_depth:', max_depth, ', min_samples_split:', min_samples_split, ', max_features:', max_features)\n",
        "        # Initialize our decision tree object\n",
        "        classification_tree = tree.DecisionTreeClassifier(criterion=criterion, max_depth=max_depth, min_samples_split=min_samples_split, max_features=max_features)\n",
        "\n",
        "        # Train our decision tree (tree induction + pruning)\n",
        "        classification_tree = classification_tree.fit(X_train, y_train)\n",
        "\n",
        "        # Predict\n",
        "        y_pred = classification_tree.predict(X_test, check_input=True)\n",
        "        accu_score, f1_scor = get_scores(y_pred, y_test)\n",
        "\n",
        "        if accu_score > max_accuracy_score:\n",
        "          max_accuracy_score = accu_score\n",
        "          max_f1_score = f1_scor\n",
        "          optimum_criterion = criterion\n",
        "          optimum_max_depth = max_depth\n",
        "          optimum_min_samples_split = min_samples_split\n",
        "          optimum_max_features = max_features\n",
        "\n",
        "        iter += 1\n",
        "\n",
        "print('---------------Optimum results and configurations---------------')\n",
        "print(\"max_accuracy_score: %.4f, max_f1_score: %.4f\" % (max_accuracy_score, max_f1_score))\n",
        "print('optimum_criterion:', optimum_criterion, ', optimum_max_depth:', optimum_max_depth, ', optimum_min_samples_split:', optimum_min_samples_split, ', optimum_max_features:', optimum_max_features)"
      ],
      "metadata": {
        "colab": {
          "base_uri": "https://localhost:8080/"
        },
        "id": "iMd46JSF0Q3u",
        "outputId": "8fc53446-2b81-4a7f-f318-28595f720b0a"
      },
      "execution_count": null,
      "outputs": [
        {
          "output_type": "stream",
          "name": "stdout",
          "text": [
            "iter: 1 , criterion: gini , max_depth: 2 , min_samples_split: 2 , max_features: 4\n",
            "accuracy_score: 0.7805, f1_score: 0.8508\n",
            "iter: 2 , criterion: gini , max_depth: 2 , min_samples_split: 2 , max_features: 6\n",
            "accuracy_score: 0.7805, f1_score: 0.8508\n",
            "iter: 3 , criterion: gini , max_depth: 2 , min_samples_split: 2 , max_features: 8\n",
            "accuracy_score: 0.7805, f1_score: 0.8525\n",
            "iter: 4 , criterion: gini , max_depth: 2 , min_samples_split: 2 , max_features: 10\n",
            "accuracy_score: 0.7805, f1_score: 0.8508\n",
            "iter: 5 , criterion: gini , max_depth: 2 , min_samples_split: 4 , max_features: 4\n",
            "accuracy_score: 0.6667, f1_score: 0.7940\n",
            "iter: 6 , criterion: gini , max_depth: 2 , min_samples_split: 4 , max_features: 6\n",
            "accuracy_score: 0.7317, f1_score: 0.8272\n",
            "iter: 7 , criterion: gini , max_depth: 2 , min_samples_split: 4 , max_features: 8\n",
            "accuracy_score: 0.7805, f1_score: 0.8508\n",
            "iter: 8 , criterion: gini , max_depth: 2 , min_samples_split: 4 , max_features: 10\n",
            "accuracy_score: 0.7805, f1_score: 0.8508\n",
            "iter: 9 , criterion: gini , max_depth: 2 , min_samples_split: 8 , max_features: 4\n",
            "accuracy_score: 0.8049, f1_score: 0.8652\n",
            "iter: 10 , criterion: gini , max_depth: 2 , min_samples_split: 8 , max_features: 6\n",
            "accuracy_score: 0.7805, f1_score: 0.8525\n",
            "iter: 11 , criterion: gini , max_depth: 2 , min_samples_split: 8 , max_features: 8\n",
            "accuracy_score: 0.7805, f1_score: 0.8508\n",
            "iter: 12 , criterion: gini , max_depth: 2 , min_samples_split: 8 , max_features: 10\n",
            "accuracy_score: 0.7805, f1_score: 0.8508\n",
            "iter: 13 , criterion: gini , max_depth: 4 , min_samples_split: 2 , max_features: 4\n",
            "accuracy_score: 0.7805, f1_score: 0.8508\n",
            "iter: 14 , criterion: gini , max_depth: 4 , min_samples_split: 2 , max_features: 6\n",
            "accuracy_score: 0.7805, f1_score: 0.8508\n",
            "iter: 15 , criterion: gini , max_depth: 4 , min_samples_split: 2 , max_features: 8\n",
            "accuracy_score: 0.7561, f1_score: 0.8370\n",
            "iter: 16 , criterion: gini , max_depth: 4 , min_samples_split: 2 , max_features: 10\n",
            "accuracy_score: 0.7642, f1_score: 0.8362\n",
            "iter: 17 , criterion: gini , max_depth: 4 , min_samples_split: 4 , max_features: 4\n",
            "accuracy_score: 0.7480, f1_score: 0.8287\n",
            "iter: 18 , criterion: gini , max_depth: 4 , min_samples_split: 4 , max_features: 6\n",
            "accuracy_score: 0.7561, f1_score: 0.8295\n",
            "iter: 19 , criterion: gini , max_depth: 4 , min_samples_split: 4 , max_features: 8\n",
            "accuracy_score: 0.7805, f1_score: 0.8508\n",
            "iter: 20 , criterion: gini , max_depth: 4 , min_samples_split: 4 , max_features: 10\n",
            "accuracy_score: 0.7805, f1_score: 0.8508\n",
            "iter: 21 , criterion: gini , max_depth: 4 , min_samples_split: 8 , max_features: 4\n",
            "accuracy_score: 0.7724, f1_score: 0.8462\n",
            "iter: 22 , criterion: gini , max_depth: 4 , min_samples_split: 8 , max_features: 6\n",
            "accuracy_score: 0.7480, f1_score: 0.8324\n",
            "iter: 23 , criterion: gini , max_depth: 4 , min_samples_split: 8 , max_features: 8\n",
            "accuracy_score: 0.7805, f1_score: 0.8525\n",
            "iter: 24 , criterion: gini , max_depth: 4 , min_samples_split: 8 , max_features: 10\n",
            "accuracy_score: 0.7642, f1_score: 0.8324\n",
            "iter: 25 , criterion: gini , max_depth: 8 , min_samples_split: 2 , max_features: 4\n",
            "accuracy_score: 0.7480, f1_score: 0.8187\n",
            "iter: 26 , criterion: gini , max_depth: 8 , min_samples_split: 2 , max_features: 6\n",
            "accuracy_score: 0.7480, f1_score: 0.8208\n",
            "iter: 27 , criterion: gini , max_depth: 8 , min_samples_split: 2 , max_features: 8\n",
            "accuracy_score: 0.7236, f1_score: 0.8023\n",
            "iter: 28 , criterion: gini , max_depth: 8 , min_samples_split: 2 , max_features: 10\n",
            "accuracy_score: 0.7480, f1_score: 0.8166\n",
            "iter: 29 , criterion: gini , max_depth: 8 , min_samples_split: 4 , max_features: 4\n",
            "accuracy_score: 0.6748, f1_score: 0.7701\n",
            "iter: 30 , criterion: gini , max_depth: 8 , min_samples_split: 4 , max_features: 6\n",
            "accuracy_score: 0.7724, f1_score: 0.8444\n",
            "iter: 31 , criterion: gini , max_depth: 8 , min_samples_split: 4 , max_features: 8\n",
            "accuracy_score: 0.7561, f1_score: 0.8193\n",
            "iter: 32 , criterion: gini , max_depth: 8 , min_samples_split: 4 , max_features: 10\n",
            "accuracy_score: 0.7561, f1_score: 0.8235\n",
            "iter: 33 , criterion: gini , max_depth: 8 , min_samples_split: 8 , max_features: 4\n",
            "accuracy_score: 0.7073, f1_score: 0.7931\n",
            "iter: 34 , criterion: gini , max_depth: 8 , min_samples_split: 8 , max_features: 6\n",
            "accuracy_score: 0.6829, f1_score: 0.7746\n",
            "iter: 35 , criterion: gini , max_depth: 8 , min_samples_split: 8 , max_features: 8\n",
            "accuracy_score: 0.7480, f1_score: 0.8166\n",
            "iter: 36 , criterion: gini , max_depth: 8 , min_samples_split: 8 , max_features: 10\n",
            "accuracy_score: 0.7642, f1_score: 0.8362\n",
            "iter: 37 , criterion: entropy , max_depth: 2 , min_samples_split: 2 , max_features: 4\n",
            "accuracy_score: 0.6504, f1_score: 0.7882\n",
            "iter: 38 , criterion: entropy , max_depth: 2 , min_samples_split: 2 , max_features: 6\n",
            "accuracy_score: 0.6748, f1_score: 0.8000\n",
            "iter: 39 , criterion: entropy , max_depth: 2 , min_samples_split: 2 , max_features: 8\n",
            "accuracy_score: 0.7805, f1_score: 0.8508\n",
            "iter: 40 , criterion: entropy , max_depth: 2 , min_samples_split: 2 , max_features: 10\n",
            "accuracy_score: 0.7805, f1_score: 0.8508\n",
            "iter: 41 , criterion: entropy , max_depth: 2 , min_samples_split: 4 , max_features: 4\n",
            "accuracy_score: 0.6911, f1_score: 0.8041\n",
            "iter: 42 , criterion: entropy , max_depth: 2 , min_samples_split: 4 , max_features: 6\n",
            "accuracy_score: 0.6748, f1_score: 0.8000\n",
            "iter: 43 , criterion: entropy , max_depth: 2 , min_samples_split: 4 , max_features: 8\n",
            "accuracy_score: 0.7805, f1_score: 0.8508\n",
            "iter: 44 , criterion: entropy , max_depth: 2 , min_samples_split: 4 , max_features: 10\n",
            "accuracy_score: 0.7805, f1_score: 0.8508\n",
            "iter: 45 , criterion: entropy , max_depth: 2 , min_samples_split: 8 , max_features: 4\n",
            "accuracy_score: 0.6504, f1_score: 0.7882\n",
            "iter: 46 , criterion: entropy , max_depth: 2 , min_samples_split: 8 , max_features: 6\n",
            "accuracy_score: 0.7805, f1_score: 0.8508\n",
            "iter: 47 , criterion: entropy , max_depth: 2 , min_samples_split: 8 , max_features: 8\n",
            "accuracy_score: 0.7805, f1_score: 0.8508\n",
            "iter: 48 , criterion: entropy , max_depth: 2 , min_samples_split: 8 , max_features: 10\n",
            "accuracy_score: 0.7805, f1_score: 0.8508\n",
            "iter: 49 , criterion: entropy , max_depth: 4 , min_samples_split: 2 , max_features: 4\n",
            "accuracy_score: 0.7805, f1_score: 0.8492\n",
            "iter: 50 , criterion: entropy , max_depth: 4 , min_samples_split: 2 , max_features: 6\n",
            "accuracy_score: 0.7317, f1_score: 0.8216\n",
            "iter: 51 , criterion: entropy , max_depth: 4 , min_samples_split: 2 , max_features: 8\n",
            "accuracy_score: 0.7805, f1_score: 0.8508\n",
            "iter: 52 , criterion: entropy , max_depth: 4 , min_samples_split: 2 , max_features: 10\n",
            "accuracy_score: 0.7642, f1_score: 0.8398\n",
            "iter: 53 , criterion: entropy , max_depth: 4 , min_samples_split: 4 , max_features: 4\n",
            "accuracy_score: 0.7642, f1_score: 0.8415\n",
            "iter: 54 , criterion: entropy , max_depth: 4 , min_samples_split: 4 , max_features: 6\n",
            "accuracy_score: 0.7073, f1_score: 0.8065\n",
            "iter: 55 , criterion: entropy , max_depth: 4 , min_samples_split: 4 , max_features: 8\n",
            "accuracy_score: 0.7480, f1_score: 0.8324\n",
            "iter: 56 , criterion: entropy , max_depth: 4 , min_samples_split: 4 , max_features: 10\n",
            "accuracy_score: 0.7642, f1_score: 0.8415\n",
            "iter: 57 , criterion: entropy , max_depth: 4 , min_samples_split: 8 , max_features: 4\n",
            "accuracy_score: 0.7642, f1_score: 0.8380\n",
            "iter: 58 , criterion: entropy , max_depth: 4 , min_samples_split: 8 , max_features: 6\n",
            "accuracy_score: 0.7480, f1_score: 0.8324\n",
            "iter: 59 , criterion: entropy , max_depth: 4 , min_samples_split: 8 , max_features: 8\n",
            "accuracy_score: 0.7642, f1_score: 0.8415\n",
            "iter: 60 , criterion: entropy , max_depth: 4 , min_samples_split: 8 , max_features: 10\n",
            "accuracy_score: 0.7642, f1_score: 0.8415\n",
            "iter: 61 , criterion: entropy , max_depth: 8 , min_samples_split: 2 , max_features: 4\n",
            "accuracy_score: 0.7642, f1_score: 0.8398\n",
            "iter: 62 , criterion: entropy , max_depth: 8 , min_samples_split: 2 , max_features: 6\n",
            "accuracy_score: 0.6992, f1_score: 0.7886\n",
            "iter: 63 , criterion: entropy , max_depth: 8 , min_samples_split: 2 , max_features: 8\n",
            "accuracy_score: 0.7236, f1_score: 0.8068\n",
            "iter: 64 , criterion: entropy , max_depth: 8 , min_samples_split: 2 , max_features: 10\n",
            "accuracy_score: 0.7642, f1_score: 0.8304\n",
            "iter: 65 , criterion: entropy , max_depth: 8 , min_samples_split: 4 , max_features: 4\n",
            "accuracy_score: 0.7073, f1_score: 0.7882\n",
            "iter: 66 , criterion: entropy , max_depth: 8 , min_samples_split: 4 , max_features: 6\n",
            "accuracy_score: 0.7154, f1_score: 0.7953\n",
            "iter: 67 , criterion: entropy , max_depth: 8 , min_samples_split: 4 , max_features: 8\n",
            "accuracy_score: 0.7073, f1_score: 0.7955\n",
            "iter: 68 , criterion: entropy , max_depth: 8 , min_samples_split: 4 , max_features: 10\n",
            "accuracy_score: 0.7642, f1_score: 0.8343\n",
            "iter: 69 , criterion: entropy , max_depth: 8 , min_samples_split: 8 , max_features: 4\n",
            "accuracy_score: 0.7073, f1_score: 0.7882\n",
            "iter: 70 , criterion: entropy , max_depth: 8 , min_samples_split: 8 , max_features: 6\n",
            "accuracy_score: 0.7317, f1_score: 0.8136\n",
            "iter: 71 , criterion: entropy , max_depth: 8 , min_samples_split: 8 , max_features: 8\n",
            "accuracy_score: 0.7317, f1_score: 0.8092\n",
            "iter: 72 , criterion: entropy , max_depth: 8 , min_samples_split: 8 , max_features: 10\n",
            "accuracy_score: 0.7236, f1_score: 0.8023\n",
            "---------------Optimum results and configurations---------------\n",
            "max_accuracy_score: 0.8049, max_f1_score: 0.8652\n",
            "optimum_criterion: gini , optimum_max_depth: 2 , optimum_min_samples_split: 8 , optimum_max_features: 4\n"
          ]
        }
      ]
    },
    {
      "cell_type": "markdown",
      "source": [
        "I played with various values for criterion, max_depth, min_samples_split, max_features for the decision tree for total 72 configurations. All the results are printed above. Also the max_accuracy_score & max_f1_score have also been printed which are 0.8049 and 0.8652 respectivly for the configuration \"optimum_criterion: gini , optimum_max_depth: 2 , optimum_min_samples_split: 8 , optimum_max_features: 4\""
      ],
      "metadata": {
        "id": "rIy0LRKiKAeS"
      }
    },
    {
      "cell_type": "markdown",
      "source": [
        "# Task 2"
      ],
      "metadata": {
        "id": "hLL5_zBSKqMs"
      }
    },
    {
      "cell_type": "code",
      "source": [],
      "metadata": {
        "id": "BG_P3b1rBewk"
      },
      "execution_count": null,
      "outputs": []
    }
  ]
}