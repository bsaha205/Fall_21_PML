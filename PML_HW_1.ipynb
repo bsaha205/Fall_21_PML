{
  "nbformat": 4,
  "nbformat_minor": 0,
  "metadata": {
    "colab": {
      "provenance": [],
      "collapsed_sections": [],
      "authorship_tag": "ABX9TyNcd7BD5k40eXAqr4du/XXW",
      "include_colab_link": true
    },
    "kernelspec": {
      "name": "python3",
      "display_name": "Python 3"
    },
    "language_info": {
      "name": "python"
    }
  },
  "cells": [
    {
      "cell_type": "markdown",
      "metadata": {
        "id": "view-in-github",
        "colab_type": "text"
      },
      "source": [
        "<a href=\"https://colab.research.google.com/github/bsaha205/Fall_22_PML/blob/main/PML_HW_1.ipynb\" target=\"_parent\"><img src=\"https://colab.research.google.com/assets/colab-badge.svg\" alt=\"Open In Colab\"/></a>"
      ]
    },
    {
      "cell_type": "markdown",
      "source": [
        "**Task 1:**\n",
        "\n",
        "A nice machine learning problem that can be solved using Logistic Regression is acceptance probability of a graduate student in a reputed university like RPI. Here, a student has grade point average, GRE score, TOEFL score, number of publications, number of citations, number of extra-curriculam activities that can be considered as the features of the data. And the logistic regression model will use these features and catagorize the student to either \"accept\" or \"reject\" catagory. Here, it is a binary classification problem and logistic regression is certainly the best choiche here to solve this problem as it works with probabilites. So, it will basically predict the probability of the student to \"accept\" category. If the probability value is greater thatn or equal to 0.5, it will catagorize as \"accept\" otherwise \"reject\". "
      ],
      "metadata": {
        "id": "UT2o9G0gFQqH"
      }
    },
    {
      "cell_type": "markdown",
      "source": [
        "**Task 2:**\n",
        "\n"
      ],
      "metadata": {
        "id": "jJdOkMEDFSyu"
      }
    }
  ]
}