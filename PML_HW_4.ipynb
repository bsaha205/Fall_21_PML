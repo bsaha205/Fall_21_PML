{
  "nbformat": 4,
  "nbformat_minor": 0,
  "metadata": {
    "colab": {
      "provenance": [],
      "collapsed_sections": [],
      "toc_visible": true,
      "include_colab_link": true
    },
    "kernelspec": {
      "name": "python3",
      "display_name": "Python 3"
    },
    "language_info": {
      "name": "python"
    }
  },
  "cells": [
    {
      "cell_type": "markdown",
      "metadata": {
        "id": "view-in-github",
        "colab_type": "text"
      },
      "source": [
        "<a href=\"https://colab.research.google.com/github/bsaha205/Fall_22_PML/blob/main/PML_HW_4.ipynb\" target=\"_parent\"><img src=\"https://colab.research.google.com/assets/colab-badge.svg\" alt=\"Open In Colab\"/></a>"
      ]
    },
    {
      "cell_type": "markdown",
      "source": [
        "# Task 1\n",
        "\n"
      ],
      "metadata": {
        "id": "nMGT3_tN0gge"
      }
    },
    {
      "cell_type": "markdown",
      "source": [
        "**Framework:** Pytorch\n",
        "\n",
        "**Dataset:** FashionMNIST from torchvision.datasets (https://pytorch.org/vision/stable/generated/torchvision.datasets.FashionMNIST.html).\n",
        "\n",
        "**Resources:**\n",
        "1. Optimizer: I used Adam optimizer from torch.optim (https://pytorch.org/docs/stable/optim.html).\n",
        "2. MLP: Used torch.nn for implementing 2-layer NN model (https://pytorch.org/docs/stable/nn.html).\n",
        "3. Plot: For plotting the data, I used matplotlib.pyplot library (https://matplotlib.org/3.5.1/api/_as_gen/matplotlib.pyplot.html).\n",
        "4. Loss function: For loss function, I used cross_entropy loss from F.cross_entropy (https://pytorch.org/docs/stable/nn.functional.html).\n",
        "5. Class Identify: To identify right class, I used log_softmax from F.log_softmax (https://pytorch.org/docs/stable/generated/torch.nn.functional.log_softmax.html)."
      ],
      "metadata": {
        "id": "oybGznHCVvmW"
      }
    },
    {
      "cell_type": "markdown",
      "source": [
        "# Task 2"
      ],
      "metadata": {
        "id": "m9L1n4M7YIZU"
      }
    },
    {
      "cell_type": "markdown",
      "source": [
        "## Exploratory Data Analysis"
      ],
      "metadata": {
        "id": "onHdRTJuYOOO"
      }
    },
    {
      "cell_type": "code",
      "source": [
        "import torch\n",
        "import torch.nn as nn\n",
        "import torch.nn.functional as F\n",
        "import torch.optim as optim\n",
        "import torch.utils.data as du\n",
        "from torchvision import datasets, transforms\n",
        "import matplotlib.pyplot as plt\n",
        "import joblib\n",
        "from torch.utils.data import Dataset\n",
        "from sklearn.model_selection import train_test_split"
      ],
      "metadata": {
        "id": "hueqaq_JN2hy"
      },
      "execution_count": null,
      "outputs": []
    },
    {
      "cell_type": "code",
      "source": [
        "# read FashionMNIST data from torchvision.datasets\n",
        "train_data = datasets.FashionMNIST('.', train=True, download=True, transform=transforms.Compose([transforms.ToTensor()]))\n",
        "test_data = datasets.FashionMNIST('.', train=False, transform=transforms.Compose([transforms.ToTensor()]))\n",
        "\n",
        "# print the shape of the dataset\n",
        "print(\"train images:\", train_data.data.size())\n",
        "print(\"test images:\", test_data.data.size())"
      ],
      "metadata": {
        "id": "g3wzIkpTN6Pm",
        "colab": {
          "base_uri": "https://localhost:8080/"
        },
        "outputId": "6c1c05da-4683-4e88-fbb0-12470495435d"
      },
      "execution_count": null,
      "outputs": [
        {
          "output_type": "stream",
          "name": "stdout",
          "text": [
            "train images: torch.Size([60000, 28, 28])\n",
            "test images: torch.Size([10000, 28, 28])\n"
          ]
        }
      ]
    },
    {
      "cell_type": "code",
      "source": [
        "# plot the very first image of train dataset with label\n",
        "plt.imshow(train_data.data[0].numpy(), cmap='gray')\n",
        "plt.title('%i' % train_data.targets[0])\n",
        "plt.show()"
      ],
      "metadata": {
        "colab": {
          "base_uri": "https://localhost:8080/",
          "height": 281
        },
        "id": "mmr4TV2mPr1J",
        "outputId": "ff2ab126-9459-4534-ce9a-80c16e9b0f31"
      },
      "execution_count": null,
      "outputs": [
        {
          "output_type": "display_data",
          "data": {
            "text/plain": [
              "<Figure size 432x288 with 1 Axes>"
            ],
            "image/png": "[encoded data removed]"
          },
          "metadata": {
            "needs_background": "light"
          }
        }
      ]
    },
    {
      "cell_type": "code",
      "source": [
        "# plot the very first image of test dataset with label\n",
        "plt.imshow(test_data.data[0].numpy(), cmap='gray')\n",
        "plt.title('%i' % test_data.targets[0])\n",
        "plt.show()"
      ],
      "metadata": {
        "colab": {
          "base_uri": "https://localhost:8080/",
          "height": 281
        },
        "id": "OzN_kYs4GXqR",
        "outputId": "68e4704f-c284-4fa2-fd9b-8d10c7b6c95e"
      },
      "execution_count": null,
      "outputs": [
        {
          "output_type": "display_data",
          "data": {
            "text/plain": [
              "<Figure size 432x288 with 1 Axes>"
            ],
            "image/png": "[encoded data removed]"
          },
          "metadata": {
            "needs_background": "light"
          }
        }
      ]
    },
    {
      "cell_type": "markdown",
      "source": [
        "## Model"
      ],
      "metadata": {
        "id": "KWWHQE6KZFaa"
      }
    },
    {
      "cell_type": "code",
      "source": [
        "class MLP(nn.Module):\n",
        "    def __init__(self, in_dim, hidden_dim, out_dim):\n",
        "        '''in_dim: input layer dim\n",
        "           hidden_dim: hidden layer dim\n",
        "           out_dim: output layer dim'''\n",
        "        \n",
        "        super(MLP, self).__init__()\n",
        "        \n",
        "        # images are 28x28 so we need to flatten them into 784d vector\n",
        "        self.flatten = nn.Flatten()\n",
        "        \n",
        "        # #two fully connected layers\n",
        "        # self.fc1 = nn.Linear(in_dim, hidden_dim)\n",
        "        # self.fc2 = nn.Linear(hidden_dim, out_dim)\n",
        "        \n",
        "        #three fully connected layers\n",
        "        self.fc1 = nn.Linear(in_dim, hidden_dim)\n",
        "        self.fc2 = nn.Linear(hidden_dim, 256)\n",
        "        self.fc3 = nn.Linear(256, out_dim)\n",
        "\n",
        "    def forward(self, x):\n",
        "        # x is 28x28, flatten it first\n",
        "        x = self.flatten(x)\n",
        "        \n",
        "        # compute output of fc1 and then apply relu activation\n",
        "        x = F.relu(self.fc1(x))\n",
        "\n",
        "        # # for 2 layers\n",
        "        # # compute output layer, no activation needed, cross entropy will compute softmax\n",
        "        # x = self.fc2(x)\n",
        "\n",
        "        # for 3 layers\n",
        "        # compute output of fc2 and then apply relu activation\n",
        "        x = F.relu(self.fc2(x))\n",
        "        # compute output layer, no activation needed, cross entropy will compute softmax\n",
        "        x = self.fc3(x)\n",
        "        \n",
        "        return x"
      ],
      "metadata": {
        "id": "AbLxIfW8QFPo"
      },
      "execution_count": null,
      "outputs": []
    },
    {
      "cell_type": "markdown",
      "source": [
        "## Training"
      ],
      "metadata": {
        "id": "3GdV0vH6O3w0"
      }
    },
    {
      "cell_type": "code",
      "source": [
        "device = f'cuda:0' if torch.cuda.is_available() else 'cpu'\n",
        "print(f\"using device: {device}\")\n",
        "\n",
        "#hyper-paramets defining\n",
        "batch_size = 1000\n",
        "learning_rate = 0.01\n",
        "epochs = 10\n",
        "in_dim = 28 # images are 28x28 as inputs\n",
        "hidden_dim = 512 # 512d hidden layer\n",
        "number_of_class = 10 # output is 10d since there are 10 classes\n",
        "\n",
        "# set model\n",
        "model = MLP(in_dim*in_dim, hidden_dim, number_of_class)\n",
        "\n",
        "# optimizer (Adam)\n",
        "optimizer = optim.Adam(model.parameters(), lr=learning_rate)\n",
        "\n",
        "# load training data in batches\n",
        "train_loader = du.DataLoader(dataset=train_data,\n",
        "                             batch_size=batch_size,\n",
        "                             shuffle=True)\n",
        "# send model over to device\n",
        "model = model.to(device)\n",
        "model.train()"
      ],
      "metadata": {
        "colab": {
          "base_uri": "https://localhost:8080/"
        },
        "id": "X_ELw38ZY_6f",
        "outputId": "26d321a5-555e-42b6-b230-82b706d6e8ac"
      },
      "execution_count": null,
      "outputs": [
        {
          "output_type": "stream",
          "name": "stdout",
          "text": [
            "using device: cpu\n"
          ]
        },
        {
          "output_type": "execute_result",
          "data": {
            "text/plain": [
              "MLP(\n",
              "  (flatten): Flatten(start_dim=1, end_dim=-1)\n",
              "  (fc1): Linear(in_features=784, out_features=512, bias=True)\n",
              "  (fc2): Linear(in_features=512, out_features=256, bias=True)\n",
              "  (fc3): Linear(in_features=256, out_features=10, bias=True)\n",
              ")"
            ]
          },
          "metadata": {},
          "execution_count": 27
        }
      ]
    },
    {
      "cell_type": "markdown",
      "source": [
        "Training loop over batches"
      ],
      "metadata": {
        "id": "nTbtmbCzPCYW"
      }
    },
    {
      "cell_type": "code",
      "source": [
        "for epoch in range(1, epochs + 1):    \n",
        "    sum_valid_loss = 0.\n",
        "    for batch_idx, (data, target) in enumerate(train_loader):\n",
        "\n",
        "        # send batch over to device\n",
        "        data, target = data.to(device), target.to(device)\n",
        "        \n",
        "        # zero out prev gradients\n",
        "        optimizer.zero_grad()\n",
        "        \n",
        "        # run the forward pass\n",
        "        output = model(data)\n",
        "        \n",
        "        # compute loss/error\n",
        "        loss = F.cross_entropy(output, target)\n",
        "\n",
        "        # I used first 50000 datapoints of train_data as trainig dataset and last 10000 points as validation dataset\n",
        "        if batch_idx >= 50:\n",
        "          # sum up batch losses for validation dataset\n",
        "          sum_valid_loss += loss.item()\n",
        "          continue\n",
        "        \n",
        "        # compute gradients and take a step in training phase\n",
        "        loss.backward()\n",
        "        optimizer.step()\n",
        "        \n",
        "    # average loss per example    \n",
        "    sum_valid_loss /= 10000\n",
        "    print(f'Epoch: {epoch}, Validation Loss: {sum_valid_loss:.6f}')"
      ],
      "metadata": {
        "colab": {
          "base_uri": "https://localhost:8080/"
        },
        "id": "eYeYugjpZIgx",
        "outputId": "44972b4e-23eb-4d03-a93b-8a8b97f1a3fa"
      },
      "execution_count": null,
      "outputs": [
        {
          "output_type": "stream",
          "name": "stdout",
          "text": [
            "Epoch: 1, Validation Loss: 0.000454\n",
            "Epoch: 2, Validation Loss: 0.000375\n",
            "Epoch: 3, Validation Loss: 0.000356\n",
            "Epoch: 4, Validation Loss: 0.000319\n",
            "Epoch: 5, Validation Loss: 0.000308\n",
            "Epoch: 6, Validation Loss: 0.000298\n",
            "Epoch: 7, Validation Loss: 0.000307\n",
            "Epoch: 8, Validation Loss: 0.000307\n",
            "Epoch: 9, Validation Loss: 0.000270\n",
            "Epoch: 10, Validation Loss: 0.000264\n"
          ]
        }
      ]
    },
    {
      "cell_type": "markdown",
      "source": [
        "## Testing"
      ],
      "metadata": {
        "id": "6MdlmpB5PQDl"
      }
    },
    {
      "cell_type": "code",
      "source": [
        "# load test images in batches\n",
        "test_loader = du.DataLoader(dataset=test_data,\n",
        "                            batch_size=batch_size,\n",
        "                            shuffle=True)\n",
        "\n",
        "# set model in eval mode as we are no longer training\n",
        "model.eval()\n",
        "test_loss = 0\n",
        "correct = 0\n",
        "\n",
        "# turning of gradient computation that will speed up testing\n",
        "with torch.no_grad():\n",
        "    for batch_idx, (data, target) in enumerate(test_loader):\n",
        "        # send batches to device\n",
        "        data, target = data.to(device), target.to(device)\n",
        "        \n",
        "        # compute forward pass and loss\n",
        "        output = model(data)\n",
        "        loss = F.cross_entropy(output, target)\n",
        "        \n",
        "        # sum up batch loss\n",
        "        test_loss += loss.item()\n",
        "\n",
        "        # get the class of the max log-probability\n",
        "        output = F.log_softmax(output, dim=1)\n",
        "        pred = output.max(dim=1)[1]\n",
        "\n",
        "        # add up number of correct predictions\n",
        "        correct += torch.sum(pred == target)\n",
        "  \n",
        "    # test loss per example\n",
        "    test_loss /= len(test_loader.dataset)\n",
        "    \n",
        "    # final test accuracy\n",
        "    test_acc = correct / len(test_loader.dataset)\n",
        "    print(f'Test loss: {test_loss:.6f}, accuracy: {test_acc:.4f}', f'correct: {correct}')"
      ],
      "metadata": {
        "colab": {
          "base_uri": "https://localhost:8080/"
        },
        "id": "b54RWuKdZS58",
        "outputId": "fb72c271-3325-40ca-907d-c3a1947fd922"
      },
      "execution_count": null,
      "outputs": [
        {
          "output_type": "stream",
          "name": "stdout",
          "text": [
            "Test loss: 0.000346, accuracy: 0.8784 correct: 8784\n"
          ]
        }
      ]
    },
    {
      "cell_type": "markdown",
      "source": [
        "# Task 3"
      ],
      "metadata": {
        "id": "B5m7jxs6FO6X"
      }
    },
    {
      "cell_type": "markdown",
      "source": [
        "Hyperparameters Used:\n",
        "1. batch_size - tried values (512, 1000, 1024)\n",
        "2. learning rate - tried values (0.1, 0.01, 0.001)\n",
        "3. epochs - tried values (5, 10)\n",
        "4. hidden_dim - tried values (256, 512)\n",
        "5. layer - tried values (2, 3, 4)\n",
        "\n",
        "Some best configs:\n",
        "1. learning rate (0.01), layer (2), epoch (5) - accuracy (0.8646)\n",
        "2. learning rate (0.001), layer (2), epoch (10) - accuracy (0.8625)\n",
        "3. learning rate (0.1), layer (2), epoch (10) - accuracy (0.8109)\n",
        "4. learning rate (0.01), layer (3), epoch (10) - accuracy (**0.8784**)\n",
        "\n",
        "I used different configurations of hyperparametes to get the best test accuracy. From the above some different configurations, we can see the test accuracy is the highest for learning rate 0.01 and layer 3. \n",
        "\n",
        "I did not use regularization, as I saw the dataset does not contain either of high bias or high variance rather the bias and variance are low. Also, the model is not actually overfitting for these small number of layers. Hence, use of regularization technic would not create big difference in this case (although the accuracy might improve in a bit). \n",
        "\n",
        "Yes, I used Adam optimization algorithm from torch.optim (https://pytorch.org/docs/stable/optim.html). Without optimizing, the model would not converge fast and hence it would perform very poor for this MLP network."
      ],
      "metadata": {
        "id": "nrXJRYx-FTCo"
      }
    },
    {
      "cell_type": "markdown",
      "source": [
        "# Task 4"
      ],
      "metadata": {
        "id": "aRL4-aSHPCfo"
      }
    },
    {
      "cell_type": "markdown",
      "source": [
        "Decision Tree Classifier Implementation"
      ],
      "metadata": {
        "id": "VKD1W8UYaiMo"
      }
    },
    {
      "cell_type": "code",
      "source": [
        "from sklearn.metrics import accuracy_score\n",
        "from sklearn import tree\n",
        "\n",
        "# reshape 28x28 images to 784d vector\n",
        "train_data.data = torch.reshape(train_data.data, (60000, 784))\n",
        "test_data.data = torch.reshape(test_data.data, (10000, 784))\n",
        "\n",
        "criterion_list = ['gini', 'entropy']\n",
        "max_depth_list = [32, 64]\n",
        "min_samples_split_list = [16, 32]\n",
        "max_features_list = [64, 128, 256, 512]\n",
        "\n",
        "iter = 1\n",
        "optimum_criterion = None\n",
        "optimum_max_depth = None\n",
        "optimum_min_samples_split = None\n",
        "optimum_max_features = None\n",
        "max_accuracy_score = 0\n",
        "for criterion in criterion_list:\n",
        "  for max_depth in max_depth_list:\n",
        "    for min_samples_split in min_samples_split_list:\n",
        "      for max_features in max_features_list:\n",
        "        print('iter:', iter, ', criterion:', criterion, ', max_depth:', max_depth, ', min_samples_split:', min_samples_split, ', max_features:', max_features)\n",
        "        # Initialize our decision tree object\n",
        "        classification_tree = tree.DecisionTreeClassifier(criterion=criterion, max_depth=max_depth, min_samples_split=min_samples_split, max_features=max_features)\n",
        "\n",
        "        # Train our decision tree (tree induction + pruning)\n",
        "        classification_tree = classification_tree.fit(train_data.data, train_data.targets)\n",
        "\n",
        "        # Predict\n",
        "        y_pred = classification_tree.predict(test_data.data, check_input=True)\n",
        "        accu_score = accuracy_score(y_pred, test_data.targets)\n",
        "        print(\"accu_score: %.4f\" % (accu_score))\n",
        "        \n",
        "        if accu_score > max_accuracy_score:\n",
        "          max_accuracy_score = accu_score\n",
        "          optimum_criterion = criterion\n",
        "          optimum_max_depth = max_depth\n",
        "          optimum_min_samples_split = min_samples_split\n",
        "          optimum_max_features = max_features\n",
        "\n",
        "        iter += 1\n",
        "\n",
        "print('---------------Optimum results and configurations---------------')\n",
        "print(\"max_accuracy_score: %.4f\" % (max_accuracy_score))\n",
        "print('optimum_criterion:', optimum_criterion, ', optimum_max_depth:', optimum_max_depth, ', optimum_min_samples_split:', optimum_min_samples_split, ', optimum_max_features:', optimum_max_features)"
      ],
      "metadata": {
        "colab": {
          "base_uri": "https://localhost:8080/"
        },
        "id": "KRKzMXs5RBxH",
        "outputId": "6e958bce-2e6b-45e4-b326-0cdd871b59d8"
      },
      "execution_count": null,
      "outputs": [
        {
          "output_type": "stream",
          "name": "stdout",
          "text": [
            "iter: 1 , criterion: gini , max_depth: 32 , min_samples_split: 16 , max_features: 64\n",
            "accu_score: 0.7882\n",
            "iter: 2 , criterion: gini , max_depth: 32 , min_samples_split: 16 , max_features: 128\n",
            "accu_score: 0.7937\n",
            "iter: 3 , criterion: gini , max_depth: 32 , min_samples_split: 16 , max_features: 256\n",
            "accu_score: 0.7956\n",
            "iter: 4 , criterion: gini , max_depth: 32 , min_samples_split: 16 , max_features: 512\n",
            "accu_score: 0.7999\n",
            "iter: 5 , criterion: gini , max_depth: 32 , min_samples_split: 32 , max_features: 64\n",
            "accu_score: 0.7884\n",
            "iter: 6 , criterion: gini , max_depth: 32 , min_samples_split: 32 , max_features: 128\n",
            "accu_score: 0.7959\n",
            "iter: 7 , criterion: gini , max_depth: 32 , min_samples_split: 32 , max_features: 256\n",
            "accu_score: 0.7941\n",
            "iter: 8 , criterion: gini , max_depth: 32 , min_samples_split: 32 , max_features: 512\n",
            "accu_score: 0.7971\n",
            "iter: 9 , criterion: gini , max_depth: 64 , min_samples_split: 16 , max_features: 64\n",
            "accu_score: 0.7898\n",
            "iter: 10 , criterion: gini , max_depth: 64 , min_samples_split: 16 , max_features: 128\n",
            "accu_score: 0.7853\n",
            "iter: 11 , criterion: gini , max_depth: 64 , min_samples_split: 16 , max_features: 256\n",
            "accu_score: 0.7936\n",
            "iter: 12 , criterion: gini , max_depth: 64 , min_samples_split: 16 , max_features: 512\n",
            "accu_score: 0.7975\n",
            "iter: 13 , criterion: gini , max_depth: 64 , min_samples_split: 32 , max_features: 64\n",
            "accu_score: 0.7912\n",
            "iter: 14 , criterion: gini , max_depth: 64 , min_samples_split: 32 , max_features: 128\n",
            "accu_score: 0.7939\n",
            "iter: 15 , criterion: gini , max_depth: 64 , min_samples_split: 32 , max_features: 256\n",
            "accu_score: 0.7916\n",
            "iter: 16 , criterion: gini , max_depth: 64 , min_samples_split: 32 , max_features: 512\n",
            "accu_score: 0.7994\n",
            "iter: 17 , criterion: entropy , max_depth: 32 , min_samples_split: 16 , max_features: 64\n",
            "accu_score: 0.7918\n",
            "iter: 18 , criterion: entropy , max_depth: 32 , min_samples_split: 16 , max_features: 128\n",
            "accu_score: 0.7948\n",
            "iter: 19 , criterion: entropy , max_depth: 32 , min_samples_split: 16 , max_features: 256\n",
            "accu_score: 0.8029\n",
            "iter: 20 , criterion: entropy , max_depth: 32 , min_samples_split: 16 , max_features: 512\n",
            "accu_score: 0.7997\n",
            "iter: 21 , criterion: entropy , max_depth: 32 , min_samples_split: 32 , max_features: 64\n",
            "accu_score: 0.8008\n",
            "iter: 22 , criterion: entropy , max_depth: 32 , min_samples_split: 32 , max_features: 128\n",
            "accu_score: 0.8034\n",
            "iter: 23 , criterion: entropy , max_depth: 32 , min_samples_split: 32 , max_features: 256\n",
            "accu_score: 0.8027\n",
            "iter: 24 , criterion: entropy , max_depth: 32 , min_samples_split: 32 , max_features: 512\n",
            "accu_score: 0.8028\n",
            "iter: 25 , criterion: entropy , max_depth: 64 , min_samples_split: 16 , max_features: 64\n",
            "accu_score: 0.7942\n",
            "iter: 26 , criterion: entropy , max_depth: 64 , min_samples_split: 16 , max_features: 128\n",
            "accu_score: 0.7970\n",
            "iter: 27 , criterion: entropy , max_depth: 64 , min_samples_split: 16 , max_features: 256\n",
            "accu_score: 0.7972\n",
            "iter: 28 , criterion: entropy , max_depth: 64 , min_samples_split: 16 , max_features: 512\n",
            "accu_score: 0.8041\n",
            "iter: 29 , criterion: entropy , max_depth: 64 , min_samples_split: 32 , max_features: 64\n",
            "accu_score: 0.7980\n",
            "iter: 30 , criterion: entropy , max_depth: 64 , min_samples_split: 32 , max_features: 128\n",
            "accu_score: 0.8027\n",
            "iter: 31 , criterion: entropy , max_depth: 64 , min_samples_split: 32 , max_features: 256\n",
            "accu_score: 0.8061\n",
            "iter: 32 , criterion: entropy , max_depth: 64 , min_samples_split: 32 , max_features: 512\n",
            "accu_score: 0.8100\n",
            "---------------Optimum results and configurations---------------\n",
            "max_accuracy_score: 0.8100\n",
            "optimum_criterion: entropy , optimum_max_depth: 64 , optimum_min_samples_split: 32 , optimum_max_features: 512\n"
          ]
        }
      ]
    },
    {
      "cell_type": "markdown",
      "source": [
        "I tried Decision Tree Classifier as the other baseline method from scikit-learn (https://scikit-learn.org/stable/modules/generated/sklearn.tree.DecisionTreeClassifier.html) and tried different configurations of hyper-parameter, printed with test accuracy above. I got the best test accuracy of 0.8100 for the criterion: entropy, max_depth: 64, min_samples_split: 32 and max_features: 512. \n",
        "\n",
        "\n",
        "Best test accuracy for MLP: 0.8784\n",
        "\n",
        "Best test accuracy for Decision Tree: 0.8100\n",
        "\n",
        "From the above results, we can see 3-layer MLP works better than Decision Tree for this FashionMNIST dataset. The reason is that FashionMNIST is a large dataset with 60000 datapoints, 784 (28x28) features and 10 classes. Being a baseline model, Decision Tree works well for the small number of datasets with small features and classes. Here MLP wins over Decision Tree classifier."
      ],
      "metadata": {
        "id": "q3inVMAHak85"
      }
    }
  ]
}